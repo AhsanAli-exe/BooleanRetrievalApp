{
 "cells": [
  {
   "cell_type": "markdown",
   "metadata": {},
   "source": [
    "# Preprocessing\n",
    "\n",
    "\n",
    "1. Case Folding(Converting all document texts to lower case)"
   ]
  },
  {
   "cell_type": "code",
   "execution_count": 1,
   "metadata": {},
   "outputs": [
    {
     "name": "stdout",
     "output_type": "stream",
     "text": [
      "All Documents are converted to lowercase\n"
     ]
    }
   ],
   "source": [
    "import os\n",
    "files = os.listdir('Abstracts') # Gets all file names from the directory\n",
    "files = sorted(files) #Sorting for simplicity\n",
    "\n",
    "for file in files:\n",
    "    with open('Abstracts/'+file,'r') as f:\n",
    "        data = f.read()\n",
    "        \n",
    "    data = data.lower()\n",
    "\n",
    "    with open('Abstracts/'+file,'w') as f:\n",
    "        f.write(data)\n",
    "\n",
    "print(\"All Documents are converted to lowercase\")\n"
   ]
  },
  {
   "cell_type": "markdown",
   "metadata": {},
   "source": [
    "2. Stopword Removal"
   ]
  },
  {
   "cell_type": "code",
   "execution_count": 2,
   "metadata": {},
   "outputs": [
    {
     "name": "stdout",
     "output_type": "stream",
     "text": [
      "Stopwords array created!\n",
      "Stopwords removed from all documents!\n"
     ]
    }
   ],
   "source": [
    "stopWords = []\n",
    "\n",
    "with open('Stopword-List.txt','r') as f:\n",
    "    data = f.read()\n",
    "words = data.split('\\n')\n",
    "\n",
    "for word in words:\n",
    "    cleaned = word.strip() #just to remove extra spaces\n",
    "    if cleaned:\n",
    "        stopWords.append(cleaned)\n",
    "\n",
    "print(\"Stopwords array created!\")\n",
    "\n",
    "files = os.listdir('Abstracts')\n",
    "files = sorted(files)\n",
    "for file in files:\n",
    "    with open('Abstracts/'+file,'r') as f:\n",
    "        data = f.read()\n",
    "    \n",
    "    for word in stopWords:\n",
    "        word = ' '+word+' '  \n",
    "        #if i directly remove stop word then this will happen: heurtistic -> heurt tic . Is would be removed so I have added extra spaces around stop word to remove only the stopwords\n",
    "        data = data.replace(word,' ')    \n",
    "    \n",
    "    with open('Abstracts/'+file,'w') as f:\n",
    "        f.write(data)\n",
    "\n",
    "print(\"Stopwords removed from all documents!\")\n",
    "\n"
   ]
  },
  {
   "cell_type": "markdown",
   "metadata": {},
   "source": [
    "3. Handling Edge case where stopword may be before or after a full stop"
   ]
  },
  {
   "cell_type": "code",
   "execution_count": 3,
   "metadata": {},
   "outputs": [
    {
     "name": "stdout",
     "output_type": "stream",
     "text": [
      "Edge Case Handled!\n"
     ]
    }
   ],
   "source": [
    "#Going to use regex for removing stopwords at boundaries\n",
    "import re\n",
    "\n",
    "for file in files:\n",
    "    with open('Abstracts/'+file,'r') as f:\n",
    "        data = f.read()\n",
    "\n",
    "    for word in stopWords:\n",
    "        pattern = r'\\b' + re.escape(word) + r'\\b'\n",
    "        data = re.sub(pattern,' ',data)\n",
    "\n",
    "    with open('Abstracts/'+file,'w') as f:\n",
    "        f.write(data)\n",
    "\n",
    "print(\"Edge Case Handled!\")\n"
   ]
  },
  {
   "cell_type": "markdown",
   "metadata": {},
   "source": [
    "4. Removing non alphabetic characters using regex"
   ]
  },
  {
   "cell_type": "code",
   "execution_count": 4,
   "metadata": {},
   "outputs": [
    {
     "name": "stdout",
     "output_type": "stream",
     "text": [
      "Punctuations removed from all documents!\n"
     ]
    }
   ],
   "source": [
    "for file in files:\n",
    "    with open('Abstracts/'+file,'r') as f:\n",
    "        data = f.read()\n",
    "    data = re.sub('[^A-Za-z]+',' ',data)\n",
    "    \n",
    "    with open('Abstracts/'+file,'w') as f:\n",
    "        f.write(data)\n",
    "\n",
    "print(\"Punctuations removed from all documents!\")"
   ]
  },
  {
   "cell_type": "markdown",
   "metadata": {},
   "source": [
    "5. PorterStemmer Time"
   ]
  },
  {
   "cell_type": "code",
   "execution_count": 1,
   "metadata": {},
   "outputs": [
    {
     "name": "stdout",
     "output_type": "stream",
     "text": [
      "Porter Stemmer stemmed the data the way it needs to be stemmed!\n"
     ]
    }
   ],
   "source": [
    "from nltk.stem.porter import PorterStemmer\n",
    "from nltk.tokenize import word_tokenize\n",
    "import os\n",
    "\n",
    "files = os.listdir('Abstracts') \n",
    "files = sorted(files) \n",
    "\n",
    "porterStemmer = PorterStemmer()\n",
    "for file in files:\n",
    "    with open('Abstracts/'+file,'r') as f:\n",
    "        data = f.read()\n",
    "    terms = word_tokenize(data)\n",
    "    stemmed = []\n",
    "    for word in terms:\n",
    "        if len(word)>1:\n",
    "            stemmed.append(porterStemmer.stem(word))\n",
    "    with open('Abstracts/'+file,'w') as f:\n",
    "         f.write(\" \".join(stemmed))\n",
    "            \n",
    "print(\"Porter Stemmer stemmed the data the way it needs to be stemmed!\")\n",
    "    "
   ]
  },
  {
   "cell_type": "code",
   "execution_count": 46,
   "metadata": {},
   "outputs": [
    {
     "name": "stdout",
     "output_type": "stream",
     "text": [
      "Porter Stemmer stemmed the data the way it needs to be stemmed!\n"
     ]
    }
   ],
   "source": [
    "from nltk.stem.porter import PorterStemmer\n",
    "\n",
    "porterStemmer = PorterStemmer()\n",
    "\n",
    "for file in files:\n",
    "    with open('Abstracts/'+file,'r') as f:\n",
    "        data = f.read()\n",
    "        \n",
    "    data = data.split() #tokenizing words\n",
    "    stemmed = []\n",
    "    for word in data:\n",
    "        stemmed.append(porterStemmer.stem(word))\n",
    "    modified_data = ' '.join(stemmed)\n",
    "    \n",
    "    with open('Abstracts/'+file,'w') as f:\n",
    "        f.write(modified_data)\n",
    "    \n",
    "print(\"Porter Stemmer stemmed the data the way it needs to be stemmed!\")\n",
    "    "
   ]
  }
 ],
 "metadata": {
  "kernelspec": {
   "display_name": "Python 3 (ipykernel)",
   "language": "python",
   "name": "python3"
  },
  "language_info": {
   "codemirror_mode": {
    "name": "ipython",
    "version": 3
   },
   "file_extension": ".py",
   "mimetype": "text/x-python",
   "name": "python",
   "nbconvert_exporter": "python",
   "pygments_lexer": "ipython3",
   "version": "3.11.5"
  }
 },
 "nbformat": 4,
 "nbformat_minor": 2
}
